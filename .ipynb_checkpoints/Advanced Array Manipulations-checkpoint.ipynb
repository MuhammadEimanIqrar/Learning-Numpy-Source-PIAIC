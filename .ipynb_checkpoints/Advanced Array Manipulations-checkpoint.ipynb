{
 "cells": [
  {
   "cell_type": "code",
   "execution_count": 4,
   "id": "03723063",
   "metadata": {},
   "outputs": [],
   "source": [
    "import numpy as np"
   ]
  },
  {
   "cell_type": "markdown",
   "id": "f0f543aa",
   "metadata": {},
   "source": [
    "# Reshape"
   ]
  },
  {
   "cell_type": "code",
   "execution_count": 2,
   "id": "48e39c07",
   "metadata": {},
   "outputs": [],
   "source": [
    "x = np.random.randn(4,5)"
   ]
  },
  {
   "cell_type": "code",
   "execution_count": 3,
   "id": "128fd26f",
   "metadata": {},
   "outputs": [
    {
     "data": {
      "text/plain": [
       "array([[-0.74883746,  0.16274846, -1.76012881,  1.88833908, -1.02526542],\n",
       "       [-1.09144675,  0.43310488, -1.20926256,  0.776008  ,  0.21583666],\n",
       "       [-0.21421056, -1.01383576,  0.73187892,  1.38678603, -0.01232643],\n",
       "       [ 0.30385848,  0.31830258,  0.16818237,  0.45954083,  0.02225575]])"
      ]
     },
     "execution_count": 3,
     "metadata": {},
     "output_type": "execute_result"
    }
   ],
   "source": [
    "x"
   ]
  },
  {
   "cell_type": "code",
   "execution_count": 4,
   "id": "ba860852",
   "metadata": {},
   "outputs": [
    {
     "data": {
      "text/plain": [
       "array([[[-0.74883746,  0.16274846, -1.76012881,  1.88833908,\n",
       "         -1.02526542],\n",
       "        [-1.09144675,  0.43310488, -1.20926256,  0.776008  ,\n",
       "          0.21583666]],\n",
       "\n",
       "       [[-0.21421056, -1.01383576,  0.73187892,  1.38678603,\n",
       "         -0.01232643],\n",
       "        [ 0.30385848,  0.31830258,  0.16818237,  0.45954083,\n",
       "          0.02225575]]])"
      ]
     },
     "execution_count": 4,
     "metadata": {},
     "output_type": "execute_result"
    }
   ],
   "source": [
    "x.reshape((2,2,5))"
   ]
  },
  {
   "cell_type": "code",
   "execution_count": 5,
   "id": "a4acb58d",
   "metadata": {},
   "outputs": [
    {
     "data": {
      "text/plain": [
       "array([[[-0.74883746,  0.16274846, -1.76012881,  1.88833908,\n",
       "         -1.02526542],\n",
       "        [-0.21421056, -1.01383576,  0.73187892,  1.38678603,\n",
       "         -0.01232643]],\n",
       "\n",
       "       [[-1.09144675,  0.43310488, -1.20926256,  0.776008  ,\n",
       "          0.21583666],\n",
       "        [ 0.30385848,  0.31830258,  0.16818237,  0.45954083,\n",
       "          0.02225575]]])"
      ]
     },
     "execution_count": 5,
     "metadata": {},
     "output_type": "execute_result"
    }
   ],
   "source": [
    "x.reshape((2,2,5),order='F')"
   ]
  },
  {
   "cell_type": "code",
   "execution_count": 6,
   "id": "34fa84ba",
   "metadata": {},
   "outputs": [
    {
     "data": {
      "text/plain": [
       "array([[[-0.74883746,  0.16274846, -1.76012881,  1.88833908,\n",
       "         -1.02526542],\n",
       "        [-1.09144675,  0.43310488, -1.20926256,  0.776008  ,\n",
       "          0.21583666]],\n",
       "\n",
       "       [[-0.21421056, -1.01383576,  0.73187892,  1.38678603,\n",
       "         -0.01232643],\n",
       "        [ 0.30385848,  0.31830258,  0.16818237,  0.45954083,\n",
       "          0.02225575]]])"
      ]
     },
     "execution_count": 6,
     "metadata": {},
     "output_type": "execute_result"
    }
   ],
   "source": [
    "x.reshape((2,2,-1))"
   ]
  },
  {
   "cell_type": "code",
   "execution_count": 7,
   "id": "ae5c0d67",
   "metadata": {},
   "outputs": [
    {
     "data": {
      "text/plain": [
       "array([[-0.74883746,  0.16274846, -1.76012881,  1.88833908, -1.02526542],\n",
       "       [-1.09144675,  0.43310488, -1.20926256,  0.776008  ,  0.21583666],\n",
       "       [-0.21421056, -1.01383576,  0.73187892,  1.38678603, -0.01232643],\n",
       "       [ 0.30385848,  0.31830258,  0.16818237,  0.45954083,  0.02225575]])"
      ]
     },
     "execution_count": 7,
     "metadata": {},
     "output_type": "execute_result"
    }
   ],
   "source": [
    "x"
   ]
  },
  {
   "cell_type": "code",
   "execution_count": 8,
   "id": "52232baf",
   "metadata": {},
   "outputs": [
    {
     "data": {
      "text/plain": [
       "array([-0.74883746,  0.16274846, -1.76012881,  1.88833908, -1.02526542,\n",
       "       -1.09144675,  0.43310488, -1.20926256,  0.776008  ,  0.21583666,\n",
       "       -0.21421056, -1.01383576,  0.73187892,  1.38678603, -0.01232643,\n",
       "        0.30385848,  0.31830258,  0.16818237,  0.45954083,  0.02225575])"
      ]
     },
     "execution_count": 8,
     "metadata": {},
     "output_type": "execute_result"
    }
   ],
   "source": [
    "x.ravel()"
   ]
  },
  {
   "cell_type": "code",
   "execution_count": 10,
   "id": "bc010203",
   "metadata": {},
   "outputs": [
    {
     "data": {
      "text/plain": [
       "array([-0.74883746,  0.16274846, -1.76012881,  1.88833908, -1.02526542,\n",
       "       -1.09144675,  0.43310488, -1.20926256,  0.776008  ,  0.21583666,\n",
       "       -0.21421056, -1.01383576,  0.73187892,  1.38678603, -0.01232643,\n",
       "        0.30385848,  0.31830258,  0.16818237,  0.45954083,  0.02225575])"
      ]
     },
     "execution_count": 10,
     "metadata": {},
     "output_type": "execute_result"
    }
   ],
   "source": [
    "x.flatten()"
   ]
  },
  {
   "cell_type": "markdown",
   "id": "f8318821",
   "metadata": {},
   "source": [
    "# Concatenate"
   ]
  },
  {
   "cell_type": "code",
   "execution_count": 6,
   "id": "c0f10db0",
   "metadata": {},
   "outputs": [],
   "source": [
    "x = [[1,3,5],[7,9,0]]"
   ]
  },
  {
   "cell_type": "code",
   "execution_count": 7,
   "id": "4ac35d40",
   "metadata": {},
   "outputs": [],
   "source": [
    "arr1 = np.array(x)"
   ]
  },
  {
   "cell_type": "code",
   "execution_count": 8,
   "id": "9bb7460f",
   "metadata": {},
   "outputs": [],
   "source": [
    "y = [[11,13,15],[17,19,10]]"
   ]
  },
  {
   "cell_type": "code",
   "execution_count": 9,
   "id": "1445536c",
   "metadata": {},
   "outputs": [],
   "source": [
    "arr2 = np.array(y)"
   ]
  },
  {
   "cell_type": "code",
   "execution_count": 10,
   "id": "4f4c5923",
   "metadata": {},
   "outputs": [
    {
     "data": {
      "text/plain": [
       "array([[ 1,  3,  5],\n",
       "       [ 7,  9,  0],\n",
       "       [11, 13, 15],\n",
       "       [17, 19, 10]])"
      ]
     },
     "execution_count": 10,
     "metadata": {},
     "output_type": "execute_result"
    }
   ],
   "source": [
    "np.concatenate((arr1,arr2),axis=0)"
   ]
  },
  {
   "cell_type": "code",
   "execution_count": 11,
   "id": "04108fe7",
   "metadata": {},
   "outputs": [
    {
     "data": {
      "text/plain": [
       "array([[ 1,  3,  5, 11, 13, 15],\n",
       "       [ 7,  9,  0, 17, 19, 10]])"
      ]
     },
     "execution_count": 11,
     "metadata": {},
     "output_type": "execute_result"
    }
   ],
   "source": [
    "np.concatenate((arr1,arr2),axis=1)"
   ]
  },
  {
   "cell_type": "code",
   "execution_count": 12,
   "id": "e02d0cfc",
   "metadata": {},
   "outputs": [
    {
     "data": {
      "text/plain": [
       "array([[ 1,  3,  5],\n",
       "       [ 7,  9,  0],\n",
       "       [11, 13, 15],\n",
       "       [17, 19, 10]])"
      ]
     },
     "execution_count": 12,
     "metadata": {},
     "output_type": "execute_result"
    }
   ],
   "source": [
    "np.vstack((arr1,arr2))"
   ]
  },
  {
   "cell_type": "code",
   "execution_count": 13,
   "id": "729e5015",
   "metadata": {},
   "outputs": [
    {
     "data": {
      "text/plain": [
       "array([[ 1,  3,  5, 11, 13, 15],\n",
       "       [ 7,  9,  0, 17, 19, 10]])"
      ]
     },
     "execution_count": 13,
     "metadata": {},
     "output_type": "execute_result"
    }
   ],
   "source": [
    "np.hstack((arr1,arr2))"
   ]
  },
  {
   "cell_type": "markdown",
   "id": "016feb4a",
   "metadata": {},
   "source": [
    "# Split"
   ]
  },
  {
   "cell_type": "code",
   "execution_count": 14,
   "id": "bbfcbd72",
   "metadata": {},
   "outputs": [],
   "source": [
    "d = [4,8,5,7,1,9,0];"
   ]
  },
  {
   "cell_type": "code",
   "execution_count": 15,
   "id": "a0f61c6e",
   "metadata": {},
   "outputs": [
    {
     "data": {
      "text/plain": [
       "array([4, 8, 5, 7, 1, 9, 0])"
      ]
     },
     "execution_count": 15,
     "metadata": {},
     "output_type": "execute_result"
    }
   ],
   "source": [
    "np.array(d)"
   ]
  },
  {
   "cell_type": "code",
   "execution_count": 16,
   "id": "95ffceef",
   "metadata": {},
   "outputs": [
    {
     "data": {
      "text/plain": [
       "[array([4, 8, 5, 7]), array([1, 9]), array([0])]"
      ]
     },
     "execution_count": 16,
     "metadata": {},
     "output_type": "execute_result"
    }
   ],
   "source": [
    "np.split(d, [4,6])"
   ]
  },
  {
   "cell_type": "code",
   "execution_count": 37,
   "id": "1416f24f",
   "metadata": {},
   "outputs": [],
   "source": [
    "y = [[4,8,5,7,1,9,0],[5,6,1,8,9,4,3,2,7,0]]"
   ]
  },
  {
   "cell_type": "code",
   "execution_count": 38,
   "id": "24623a0f",
   "metadata": {},
   "outputs": [
    {
     "name": "stderr",
     "output_type": "stream",
     "text": [
      "C:\\Users\\dell\\AppData\\Local\\Temp\\ipykernel_15428\\112996313.py:1: VisibleDeprecationWarning: Creating an ndarray from ragged nested sequences (which is a list-or-tuple of lists-or-tuples-or ndarrays with different lengths or shapes) is deprecated. If you meant to do this, you must specify 'dtype=object' when creating the ndarray.\n",
      "  z = np.array(y)\n"
     ]
    }
   ],
   "source": [
    "z = np.array(y)"
   ]
  },
  {
   "cell_type": "code",
   "execution_count": 36,
   "id": "15f25d40",
   "metadata": {},
   "outputs": [
    {
     "data": {
      "text/plain": [
       "[array([[11, 13, 15],\n",
       "        [17, 19, 10]]),\n",
       " array([], shape=(2, 0), dtype=int32),\n",
       " array([], shape=(2, 0), dtype=int32)]"
      ]
     },
     "execution_count": 36,
     "metadata": {},
     "output_type": "execute_result"
    }
   ],
   "source": [
    "np.split(z, [3,5], axis=1)"
   ]
  },
  {
   "cell_type": "code",
   "execution_count": null,
   "id": "17c27b8f",
   "metadata": {},
   "outputs": [],
   "source": []
  }
 ],
 "metadata": {
  "kernelspec": {
   "display_name": "Python 3 (ipykernel)",
   "language": "python",
   "name": "python3"
  },
  "language_info": {
   "codemirror_mode": {
    "name": "ipython",
    "version": 3
   },
   "file_extension": ".py",
   "mimetype": "text/x-python",
   "name": "python",
   "nbconvert_exporter": "python",
   "pygments_lexer": "ipython3",
   "version": "3.9.7"
  }
 },
 "nbformat": 4,
 "nbformat_minor": 5
}
