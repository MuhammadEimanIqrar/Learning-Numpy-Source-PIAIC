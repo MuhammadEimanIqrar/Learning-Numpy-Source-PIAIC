{
 "cells": [
  {
   "cell_type": "code",
   "execution_count": 1,
   "id": "12ccdfd0",
   "metadata": {},
   "outputs": [],
   "source": [
    "import numpy as np"
   ]
  },
  {
   "cell_type": "code",
   "execution_count": 2,
   "id": "7e421995",
   "metadata": {},
   "outputs": [],
   "source": [
    "a = np.random.randn((10)) #creating random array of 10 elements"
   ]
  },
  {
   "cell_type": "code",
   "execution_count": 3,
   "id": "74ca1275",
   "metadata": {},
   "outputs": [],
   "source": [
    "b = np.random.randn((10))"
   ]
  },
  {
   "cell_type": "code",
   "execution_count": 4,
   "id": "85b7b8fb",
   "metadata": {},
   "outputs": [
    {
     "data": {
      "text/plain": [
       "array([-1.93437244, -0.84395655, -0.09281901, -1.39512466, -0.94318852,\n",
       "       -0.4584031 , -0.6978441 ,  0.36838306,  0.91194295, -0.16662573])"
      ]
     },
     "execution_count": 4,
     "metadata": {},
     "output_type": "execute_result"
    }
   ],
   "source": [
    "a"
   ]
  },
  {
   "cell_type": "code",
   "execution_count": 5,
   "id": "601aa6a1",
   "metadata": {},
   "outputs": [
    {
     "data": {
      "text/plain": [
       "array([-0.01154523,  0.82796798,  1.64133831,  0.35015677,  1.77569173,\n",
       "       -0.19816917,  1.00140738,  2.41872751,  0.46580632, -0.59174114])"
      ]
     },
     "execution_count": 5,
     "metadata": {},
     "output_type": "execute_result"
    }
   ],
   "source": [
    "b"
   ]
  },
  {
   "cell_type": "code",
   "execution_count": 6,
   "id": "fa713eaa",
   "metadata": {},
   "outputs": [
    {
     "data": {
      "text/plain": [
       "array([-1.94591768, -0.01598857,  1.5485193 , -1.04496789,  0.83250321,\n",
       "       -0.65657227,  0.30356328,  2.78711057,  1.37774927, -0.75836686])"
      ]
     },
     "execution_count": 6,
     "metadata": {},
     "output_type": "execute_result"
    }
   ],
   "source": [
    "a + b #adding a and b > we can make all type of calculations on them case is shape of both arrays must be save "
   ]
  },
  {
   "cell_type": "code",
   "execution_count": 7,
   "id": "d9f039b7",
   "metadata": {},
   "outputs": [
    {
     "data": {
      "text/plain": [
       "array([-3.86874489, -1.68791309, -0.18563803, -2.79024932, -1.88637704,\n",
       "       -0.9168062 , -1.3956882 ,  0.73676612,  1.8238859 , -0.33325145])"
      ]
     },
     "execution_count": 7,
     "metadata": {},
     "output_type": "execute_result"
    }
   ],
   "source": [
    "2*a"
   ]
  },
  {
   "cell_type": "code",
   "execution_count": 8,
   "id": "a563c61f",
   "metadata": {},
   "outputs": [
    {
     "data": {
      "text/plain": [
       "array([ -0.51696353,  -1.18489513, -10.77365471,  -0.71678183,\n",
       "        -1.06023343,  -2.18148613,  -1.43298481,   2.71456563,\n",
       "         1.09655982,  -6.00147419])"
      ]
     },
     "execution_count": 8,
     "metadata": {},
     "output_type": "execute_result"
    }
   ],
   "source": [
    "1/a"
   ]
  },
  {
   "cell_type": "code",
   "execution_count": 9,
   "id": "813ead08",
   "metadata": {},
   "outputs": [
    {
     "data": {
      "text/plain": [
       "array([False, False, False, False, False, False, False,  True,  True,\n",
       "       False])"
      ]
     },
     "execution_count": 9,
     "metadata": {},
     "output_type": "execute_result"
    }
   ],
   "source": [
    "a>0 #checking positive numbers in an array it gives boolean array showing condition matched or not"
   ]
  },
  {
   "cell_type": "code",
   "execution_count": 10,
   "id": "416d24f5",
   "metadata": {},
   "outputs": [
    {
     "data": {
      "text/plain": [
       "array([0.36838306, 0.91194295])"
      ]
     },
     "execution_count": 10,
     "metadata": {},
     "output_type": "execute_result"
    }
   ],
   "source": [
    "a[a>0] #it gives all values that matches given condition"
   ]
  },
  {
   "cell_type": "code",
   "execution_count": null,
   "id": "91238d00",
   "metadata": {},
   "outputs": [],
   "source": []
  }
 ],
 "metadata": {
  "kernelspec": {
   "display_name": "Python 3 (ipykernel)",
   "language": "python",
   "name": "python3"
  },
  "language_info": {
   "codemirror_mode": {
    "name": "ipython",
    "version": 3
   },
   "file_extension": ".py",
   "mimetype": "text/x-python",
   "name": "python",
   "nbconvert_exporter": "python",
   "pygments_lexer": "ipython3",
   "version": "3.9.7"
  }
 },
 "nbformat": 4,
 "nbformat_minor": 5
}
