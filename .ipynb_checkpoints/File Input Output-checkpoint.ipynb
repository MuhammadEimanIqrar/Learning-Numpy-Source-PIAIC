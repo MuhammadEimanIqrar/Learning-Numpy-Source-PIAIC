{
 "cells": [
  {
   "cell_type": "code",
   "execution_count": 1,
   "id": "fe1a5bbe",
   "metadata": {},
   "outputs": [],
   "source": [
    "import numpy as np"
   ]
  },
  {
   "cell_type": "code",
   "execution_count": 2,
   "id": "01e363a2",
   "metadata": {},
   "outputs": [],
   "source": [
    "x = [1,4,5,7]"
   ]
  },
  {
   "cell_type": "code",
   "execution_count": 3,
   "id": "4b4b9463",
   "metadata": {},
   "outputs": [],
   "source": [
    "y = [8,7,9]"
   ]
  },
  {
   "cell_type": "code",
   "execution_count": 4,
   "id": "1b43621a",
   "metadata": {},
   "outputs": [],
   "source": [
    "np.save('testx',x)"
   ]
  },
  {
   "cell_type": "code",
   "execution_count": 6,
   "id": "ac16085a",
   "metadata": {},
   "outputs": [],
   "source": [
    "loadx = np.load('testx.npy')"
   ]
  },
  {
   "cell_type": "code",
   "execution_count": 7,
   "id": "95487543",
   "metadata": {},
   "outputs": [
    {
     "data": {
      "text/plain": [
       "array([1, 4, 5, 7])"
      ]
     },
     "execution_count": 7,
     "metadata": {},
     "output_type": "execute_result"
    }
   ],
   "source": [
    "loadx"
   ]
  },
  {
   "cell_type": "code",
   "execution_count": 8,
   "id": "5bde175f",
   "metadata": {},
   "outputs": [],
   "source": [
    "np.savez('testxy',x,y)"
   ]
  },
  {
   "cell_type": "code",
   "execution_count": 9,
   "id": "3f3d4854",
   "metadata": {},
   "outputs": [],
   "source": [
    "loadxy = np.load('testxy.npz')"
   ]
  },
  {
   "cell_type": "code",
   "execution_count": 10,
   "id": "9b01f430",
   "metadata": {},
   "outputs": [
    {
     "data": {
      "text/plain": [
       "<numpy.lib.npyio.NpzFile at 0x1d3f061bf70>"
      ]
     },
     "execution_count": 10,
     "metadata": {},
     "output_type": "execute_result"
    }
   ],
   "source": [
    "loadxy"
   ]
  },
  {
   "cell_type": "code",
   "execution_count": 16,
   "id": "b65dfe25",
   "metadata": {},
   "outputs": [
    {
     "ename": "KeyError",
     "evalue": "'x is not a file in the archive'",
     "output_type": "error",
     "traceback": [
      "\u001b[1;31m---------------------------------------------------------------------------\u001b[0m",
      "\u001b[1;31mKeyError\u001b[0m                                  Traceback (most recent call last)",
      "Input \u001b[1;32mIn [16]\u001b[0m, in \u001b[0;36m<cell line: 1>\u001b[1;34m()\u001b[0m\n\u001b[1;32m----> 1\u001b[0m \u001b[43mloadxy\u001b[49m\u001b[43m[\u001b[49m\u001b[38;5;124;43m'\u001b[39;49m\u001b[38;5;124;43mx\u001b[39;49m\u001b[38;5;124;43m'\u001b[39;49m\u001b[43m]\u001b[49m\n",
      "File \u001b[1;32m~\\AppData\\Local\\Programs\\Python\\Python39\\lib\\site-packages\\numpy\\lib\\npyio.py:249\u001b[0m, in \u001b[0;36mNpzFile.__getitem__\u001b[1;34m(self, key)\u001b[0m\n\u001b[0;32m    247\u001b[0m         \u001b[38;5;28;01mreturn\u001b[39;00m \u001b[38;5;28mself\u001b[39m\u001b[38;5;241m.\u001b[39mzip\u001b[38;5;241m.\u001b[39mread(key)\n\u001b[0;32m    248\u001b[0m \u001b[38;5;28;01melse\u001b[39;00m:\n\u001b[1;32m--> 249\u001b[0m     \u001b[38;5;28;01mraise\u001b[39;00m \u001b[38;5;167;01mKeyError\u001b[39;00m(\u001b[38;5;124m\"\u001b[39m\u001b[38;5;132;01m%s\u001b[39;00m\u001b[38;5;124m is not a file in the archive\u001b[39m\u001b[38;5;124m\"\u001b[39m \u001b[38;5;241m%\u001b[39m key)\n",
      "\u001b[1;31mKeyError\u001b[0m: 'x is not a file in the archive'"
     ]
    }
   ],
   "source": [
    "loadxy['x']"
   ]
  },
  {
   "cell_type": "code",
   "execution_count": null,
   "id": "051f15da",
   "metadata": {},
   "outputs": [],
   "source": []
  }
 ],
 "metadata": {
  "kernelspec": {
   "display_name": "Python 3 (ipykernel)",
   "language": "python",
   "name": "python3"
  },
  "language_info": {
   "codemirror_mode": {
    "name": "ipython",
    "version": 3
   },
   "file_extension": ".py",
   "mimetype": "text/x-python",
   "name": "python",
   "nbconvert_exporter": "python",
   "pygments_lexer": "ipython3",
   "version": "3.9.7"
  }
 },
 "nbformat": 4,
 "nbformat_minor": 5
}
