{
 "cells": [
  {
   "cell_type": "code",
   "execution_count": 1,
   "id": "1f7328c1",
   "metadata": {},
   "outputs": [],
   "source": [
    "import numpy as np"
   ]
  },
  {
   "cell_type": "code",
   "execution_count": 3,
   "id": "8653beb9",
   "metadata": {},
   "outputs": [],
   "source": [
    "x = np.array([1,7,9,8,5])"
   ]
  },
  {
   "cell_type": "code",
   "execution_count": 4,
   "id": "b0818393",
   "metadata": {},
   "outputs": [
    {
     "data": {
      "text/plain": [
       "5"
      ]
     },
     "execution_count": 4,
     "metadata": {},
     "output_type": "execute_result"
    }
   ],
   "source": [
    "x[4]"
   ]
  },
  {
   "cell_type": "code",
   "execution_count": 5,
   "id": "34fdef3b",
   "metadata": {},
   "outputs": [
    {
     "data": {
      "text/plain": [
       "array([7, 9, 8])"
      ]
     },
     "execution_count": 5,
     "metadata": {},
     "output_type": "execute_result"
    }
   ],
   "source": [
    "x[x>5] # Boolean Indexing"
   ]
  },
  {
   "cell_type": "code",
   "execution_count": 7,
   "id": "7896c939",
   "metadata": {},
   "outputs": [
    {
     "data": {
      "text/plain": [
       "array([9, 7])"
      ]
     },
     "execution_count": 7,
     "metadata": {},
     "output_type": "execute_result"
    }
   ],
   "source": [
    "# Fancy Indexing:\n",
    "x[[2,1]]"
   ]
  },
  {
   "cell_type": "code",
   "execution_count": 8,
   "id": "9c05387d",
   "metadata": {},
   "outputs": [],
   "source": [
    "x = np.random.randn(10,10)"
   ]
  },
  {
   "cell_type": "code",
   "execution_count": 9,
   "id": "09351759",
   "metadata": {},
   "outputs": [
    {
     "data": {
      "text/plain": [
       "array([[-0.15907319, -0.44816054,  0.65098294,  0.56216458, -0.74035725,\n",
       "        -0.68611004, -0.19963404,  1.65251159, -1.79639426,  0.40575127],\n",
       "       [ 1.80658306, -0.14025036,  1.24273419,  0.37763376,  0.09902116,\n",
       "        -0.25991218,  0.28658692,  0.2619428 ,  1.32805939,  0.36546355],\n",
       "       [ 1.53529008,  0.22951675, -0.59502588, -0.39180586, -0.34869145,\n",
       "        -1.77631883, -1.99297237, -1.38544502,  0.82976782,  0.26254516],\n",
       "       [ 2.01533432,  0.3520902 , -0.21348265,  0.13839347,  1.25165463,\n",
       "        -0.8881975 , -1.0138745 ,  0.00380293,  0.54586213, -0.42016201],\n",
       "       [-0.82356987, -1.37083309, -0.14507034,  0.03333345,  1.66188782,\n",
       "         0.42104242,  1.05761155, -0.37358383,  0.47448998, -0.6683557 ],\n",
       "       [-0.05938989,  0.71333177, -0.97314929, -1.36791907,  0.52289028,\n",
       "        -0.39032592,  1.74568605, -0.01302293,  0.40318256,  0.85308845],\n",
       "       [-0.28733916,  0.71102939,  0.89354944, -0.90828457,  0.84730228,\n",
       "        -0.47428949,  0.34423238, -0.93609251, -1.38406271,  0.42967159],\n",
       "       [ 0.25342334, -0.11833968, -0.13600101,  1.4642096 , -1.38559692,\n",
       "        -0.86531943, -0.88450112, -1.4989006 ,  1.77691423,  1.12320183],\n",
       "       [ 1.02578035, -0.59291877, -0.73393266, -0.41114056, -1.09585268,\n",
       "         0.88962904, -0.60421549, -0.24639991,  0.34364446, -0.78884005],\n",
       "       [-1.03217792, -0.60881846, -0.17251123, -0.5215804 ,  0.96580565,\n",
       "         1.85950848,  1.7293671 ,  0.73507955,  0.37223927, -0.87200178]])"
      ]
     },
     "execution_count": 9,
     "metadata": {},
     "output_type": "execute_result"
    }
   ],
   "source": [
    "x"
   ]
  },
  {
   "cell_type": "code",
   "execution_count": 10,
   "id": "53c8cf09",
   "metadata": {},
   "outputs": [
    {
     "data": {
      "text/plain": [
       "array([-0.15907319, -0.44816054,  0.65098294,  0.56216458, -0.74035725,\n",
       "       -0.68611004, -0.19963404,  1.65251159, -1.79639426,  0.40575127])"
      ]
     },
     "execution_count": 10,
     "metadata": {},
     "output_type": "execute_result"
    }
   ],
   "source": [
    "x[0]"
   ]
  },
  {
   "cell_type": "code",
   "execution_count": 11,
   "id": "ea0ae5bb",
   "metadata": {},
   "outputs": [
    {
     "data": {
      "text/plain": [
       "-0.7403572514043004"
      ]
     },
     "execution_count": 11,
     "metadata": {},
     "output_type": "execute_result"
    }
   ],
   "source": [
    "x[0][4]"
   ]
  },
  {
   "cell_type": "code",
   "execution_count": 12,
   "id": "03d4c948",
   "metadata": {},
   "outputs": [
    {
     "data": {
      "text/plain": [
       "array([[ 1.80658306, -0.14025036,  1.24273419,  0.37763376,  0.09902116,\n",
       "        -0.25991218,  0.28658692,  0.2619428 ,  1.32805939,  0.36546355],\n",
       "       [ 2.01533432,  0.3520902 , -0.21348265,  0.13839347,  1.25165463,\n",
       "        -0.8881975 , -1.0138745 ,  0.00380293,  0.54586213, -0.42016201],\n",
       "       [-0.05938989,  0.71333177, -0.97314929, -1.36791907,  0.52289028,\n",
       "        -0.39032592,  1.74568605, -0.01302293,  0.40318256,  0.85308845],\n",
       "       [ 0.25342334, -0.11833968, -0.13600101,  1.4642096 , -1.38559692,\n",
       "        -0.86531943, -0.88450112, -1.4989006 ,  1.77691423,  1.12320183],\n",
       "       [-1.03217792, -0.60881846, -0.17251123, -0.5215804 ,  0.96580565,\n",
       "         1.85950848,  1.7293671 ,  0.73507955,  0.37223927, -0.87200178]])"
      ]
     },
     "execution_count": 12,
     "metadata": {},
     "output_type": "execute_result"
    }
   ],
   "source": [
    "x[1:10:2,::] # Syntax Explanation: [starting_index:ending_index:steps:columns_to_get] & :: operator used to skip any value or work same like all/everything without specifiyng condition/value"
   ]
  },
  {
   "cell_type": "code",
   "execution_count": 13,
   "id": "d17579d3",
   "metadata": {},
   "outputs": [
    {
     "data": {
      "text/plain": [
       "array([[-0.15907319, -0.44816054,  0.65098294,  0.56216458],\n",
       "       [ 1.80658306, -0.14025036,  1.24273419,  0.37763376],\n",
       "       [ 1.53529008,  0.22951675, -0.59502588, -0.39180586],\n",
       "       [ 2.01533432,  0.3520902 , -0.21348265,  0.13839347],\n",
       "       [-0.82356987, -1.37083309, -0.14507034,  0.03333345],\n",
       "       [-0.05938989,  0.71333177, -0.97314929, -1.36791907],\n",
       "       [-0.28733916,  0.71102939,  0.89354944, -0.90828457],\n",
       "       [ 0.25342334, -0.11833968, -0.13600101,  1.4642096 ],\n",
       "       [ 1.02578035, -0.59291877, -0.73393266, -0.41114056],\n",
       "       [-1.03217792, -0.60881846, -0.17251123, -0.5215804 ]])"
      ]
     },
     "execution_count": 13,
     "metadata": {},
     "output_type": "execute_result"
    }
   ],
   "source": [
    "x[::,0:4]"
   ]
  },
  {
   "cell_type": "code",
   "execution_count": 14,
   "id": "7a9f5b9f",
   "metadata": {},
   "outputs": [],
   "source": [
    "x = np.ones((5,5))"
   ]
  },
  {
   "cell_type": "code",
   "execution_count": 15,
   "id": "0cec654c",
   "metadata": {},
   "outputs": [
    {
     "data": {
      "text/plain": [
       "array([[1., 1., 1., 1., 1.],\n",
       "       [1., 1., 1., 1., 1.],\n",
       "       [1., 1., 1., 1., 1.],\n",
       "       [1., 1., 1., 1., 1.],\n",
       "       [1., 1., 1., 1., 1.]])"
      ]
     },
     "execution_count": 15,
     "metadata": {},
     "output_type": "execute_result"
    }
   ],
   "source": [
    "x"
   ]
  },
  {
   "cell_type": "code",
   "execution_count": 16,
   "id": "c1bec4fb",
   "metadata": {},
   "outputs": [],
   "source": [
    "x[1:-1,1:-1] = 0"
   ]
  },
  {
   "cell_type": "code",
   "execution_count": 17,
   "id": "7b53a482",
   "metadata": {},
   "outputs": [
    {
     "data": {
      "text/plain": [
       "array([[1., 1., 1., 1., 1.],\n",
       "       [1., 0., 0., 0., 1.],\n",
       "       [1., 0., 0., 0., 1.],\n",
       "       [1., 0., 0., 0., 1.],\n",
       "       [1., 1., 1., 1., 1.]])"
      ]
     },
     "execution_count": 17,
     "metadata": {},
     "output_type": "execute_result"
    }
   ],
   "source": [
    "x"
   ]
  },
  {
   "cell_type": "code",
   "execution_count": null,
   "id": "52a884f3",
   "metadata": {},
   "outputs": [],
   "source": [
    "# Assignment ChessBoard Pattern"
   ]
  }
 ],
 "metadata": {
  "kernelspec": {
   "display_name": "Python 3 (ipykernel)",
   "language": "python",
   "name": "python3"
  },
  "language_info": {
   "codemirror_mode": {
    "name": "ipython",
    "version": 3
   },
   "file_extension": ".py",
   "mimetype": "text/x-python",
   "name": "python",
   "nbconvert_exporter": "python",
   "pygments_lexer": "ipython3",
   "version": "3.9.7"
  }
 },
 "nbformat": 4,
 "nbformat_minor": 5
}
